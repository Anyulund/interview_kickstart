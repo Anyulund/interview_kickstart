{
  "nbformat": 4,
  "nbformat_minor": 0,
  "metadata": {
    "colab": {
      "name": "Sorting_Fundamentals.ipynb",
      "provenance": [],
      "collapsed_sections": [],
      "authorship_tag": "ABX9TyMg86ZP//q0bTi9b0xKPcrO",
      "include_colab_link": true
    },
    "kernelspec": {
      "name": "python3",
      "display_name": "Python 3"
    },
    "language_info": {
      "name": "python"
    }
  },
  "cells": [
    {
      "cell_type": "markdown",
      "metadata": {
        "id": "view-in-github",
        "colab_type": "text"
      },
      "source": [
        "<a href=\"https://colab.research.google.com/github/Anyulund/interview_kickstart/blob/main/Sorting_Fundamentals.ipynb\" target=\"_parent\"><img src=\"https://colab.research.google.com/assets/colab-badge.svg\" alt=\"Open In Colab\"/></a>"
      ]
    },
    {
      "cell_type": "markdown",
      "source": [
        "##  Selection Sort \n",
        "\n",
        "Find the smallest element in the array and put it after each smallest number. "
      ],
      "metadata": {
        "id": "Y5rrP7zCkaZc"
      }
    },
    {
      "cell_type": "code",
      "execution_count": 19,
      "metadata": {
        "colab": {
          "base_uri": "https://localhost:8080/",
          "height": 34
        },
        "id": "Kmrqmm9fkSNU",
        "outputId": "2b9305f7-8607-4ffe-993f-fad41580fe9c"
      },
      "outputs": [
        {
          "output_type": "display_data",
          "data": {
            "text/plain": [
              "[1, 3, 6, 9, 10, 11, 13]"
            ]
          },
          "metadata": {}
        }
      ],
      "source": [
        "A = [1,6,3,9,10,13,11]\n",
        "\n",
        "def selection_sort(a):  \n",
        "    for ind in range(len(A)):\n",
        "      min = ind\n",
        "      for inner in range(ind, len(a)):\n",
        "        if a[inner] < a[ind]:\n",
        "          min = inner\n",
        "        (a[ind], a[min]) = (a[min],a[ind])\n",
        "    return a\n",
        "\n",
        "display(selection_sort(A))\n"
      ]
    },
    {
      "cell_type": "markdown",
      "source": [
        "## Bubble Sort \n",
        "\n",
        "Start from the right and bubble up the smallest vaue to the left."
      ],
      "metadata": {
        "id": "240pEax4kWkK"
      }
    },
    {
      "cell_type": "code",
      "source": [
        "def bubble_sort(a):\n",
        "  for start in range(len(a)):\n",
        "    for i in range (len(a)-1, start, -1):\n",
        "      if a[i-1] > a[i]:\n",
        "        (a[i-1],a[i]) = (a[i],a[i-1])\n",
        "  return a\n",
        "\n",
        "display(bubble_sort(A))"
      ],
      "metadata": {
        "colab": {
          "base_uri": "https://localhost:8080/",
          "height": 34
        },
        "id": "NJ4boM6C9vQK",
        "outputId": "b6689cbd-7a31-4f43-ebc1-8910dd37a2ee"
      },
      "execution_count": 20,
      "outputs": [
        {
          "output_type": "display_data",
          "data": {
            "text/plain": [
              "[1, 3, 6, 9, 10, 11, 13]"
            ]
          },
          "metadata": {}
        }
      ]
    },
    {
      "cell_type": "markdown",
      "source": [
        "## Pythonic Way"
      ],
      "metadata": {
        "id": "IzIeKFoM0IlA"
      }
    },
    {
      "cell_type": "code",
      "source": [
        "display(sorted(A))"
      ],
      "metadata": {
        "colab": {
          "base_uri": "https://localhost:8080/",
          "height": 34
        },
        "id": "xms4fRxzztHy",
        "outputId": "88febcd5-ec3e-4fea-cf60-4ad17cca31ca"
      },
      "execution_count": 21,
      "outputs": [
        {
          "output_type": "display_data",
          "data": {
            "text/plain": [
              "[1, 3, 6, 9, 10, 11, 13]"
            ]
          },
          "metadata": {}
        }
      ]
    },
    {
      "cell_type": "markdown",
      "source": [
        "<h2><a href=\"https://leetcode.com/problems/sorting-the-sentence/\">1859. Sorting the Sentence</a></h2><h3>Easy</h3><hr><div><p>A <strong>sentence</strong> is a list of words that are separated by a single space with no leading or trailing spaces. Each word consists of lowercase and uppercase English letters.</p>\n",
        "\n",
        "<p>A sentence can be <strong>shuffled</strong> by appending the <strong>1-indexed word position</strong> to each word then rearranging the words in the sentence.</p>\n",
        "\n",
        "<ul>\n",
        "\t<li>For example, the sentence <code>\"This is a sentence\"</code> can be shuffled as <code>\"sentence4 a3 is2 This1\"</code> or <code>\"is2 sentence4 This1 a3\"</code>.</li>\n",
        "</ul>\n",
        "\n",
        "<p>Given a <strong>shuffled sentence</strong> <code>s</code> containing no more than <code>9</code> words, reconstruct and return <em>the original sentence</em>.</p>\n",
        "\n",
        "<p>&nbsp;</p>\n",
        "<p><strong>Example 1:</strong></p>\n",
        "\n",
        "<pre><strong>Input:</strong> s = \"is2 sentence4 This1 a3\"\n",
        "<strong>Output:</strong> \"This is a sentence\"\n",
        "<strong>Explanation:</strong> Sort the words in s to their original positions \"This1 is2 a3 sentence4\", then remove the numbers.\n",
        "</pre>\n",
        "\n",
        "<p><strong>Example 2:</strong></p>\n",
        "\n",
        "<pre><strong>Input:</strong> s = \"Myself2 Me1 I4 and3\"\n",
        "<strong>Output:</strong> \"Me Myself and I\"\n",
        "<strong>Explanation:</strong> Sort the words in s to their original positions \"Me1 Myself2 and3 I4\", then remove the numbers.\n",
        "</pre>\n",
        "\n",
        "<p>&nbsp;</p>\n",
        "<p><strong>Constraints:</strong></p>\n",
        "\n",
        "<ul>\n",
        "\t<li><code>2 &lt;= s.length &lt;= 200</code></li>\n",
        "\t<li><code>s</code> consists of lowercase and uppercase English letters, spaces, and digits from <code>1</code> to <code>9</code>.</li>\n",
        "\t<li>The number of words in <code>s</code> is between <code>1</code> and <code>9</code>.</li>\n",
        "\t<li>The words in <code>s</code> are separated by a single space.</li>\n",
        "\t<li><code>s</code> contains no leading or trailing spaces.</li>\n",
        "</ul></div>"
      ],
      "metadata": {
        "id": "HLyML4Lvs1Pq"
      }
    },
    {
      "cell_type": "markdown",
      "source": [
        "## Function"
      ],
      "metadata": {
        "id": "p9CgwLFBBMm0"
      }
    },
    {
      "cell_type": "code",
      "source": [
        "def sortSentence(s):\n",
        "    return \" \".join(list(map(lambda x: x[:-1], sorted(s.split(), key = lambda x: x[-1]))))"
      ],
      "metadata": {
        "id": "MJkxXaAstUrJ"
      },
      "execution_count": 2,
      "outputs": []
    },
    {
      "cell_type": "code",
      "source": [
        "s = \"Myself2 Me1 I4 and3\"\n",
        "display(sortSentence(s))"
      ],
      "metadata": {
        "colab": {
          "base_uri": "https://localhost:8080/",
          "height": 35
        },
        "id": "Hu1rdEBetvjJ",
        "outputId": "d4080b4c-890c-48c7-8b40-52e72635b9f7"
      },
      "execution_count": 3,
      "outputs": [
        {
          "output_type": "display_data",
          "data": {
            "text/plain": [
              "'Me Myself and I'"
            ],
            "application/vnd.google.colaboratory.intrinsic+json": {
              "type": "string"
            }
          },
          "metadata": {}
        }
      ]
    },
    {
      "cell_type": "markdown",
      "source": [
        "## Process behind the function\n"
      ],
      "metadata": {
        "id": "HdkQ0hAwBOlQ"
      }
    },
    {
      "cell_type": "code",
      "source": [
        "# Sort by last symbol which is a number\n",
        "sorted(s.split(),key = lambda x: x[-1] )"
      ],
      "metadata": {
        "colab": {
          "base_uri": "https://localhost:8080/"
        },
        "id": "ln0Klt_H_Eri",
        "outputId": "9034fd4c-8e8a-4baf-e792-88f2932093da"
      },
      "execution_count": 60,
      "outputs": [
        {
          "output_type": "execute_result",
          "data": {
            "text/plain": [
              "['Me1', 'Myself2', 'and3', 'I4']"
            ]
          },
          "metadata": {},
          "execution_count": 60
        }
      ]
    },
    {
      "cell_type": "code",
      "source": [
        "# Remove last number \n",
        "list(map(lambda x: x[:-1], s.split()))"
      ],
      "metadata": {
        "colab": {
          "base_uri": "https://localhost:8080/"
        },
        "id": "cdf1KBncAJfX",
        "outputId": "58310046-afb3-478b-da81-3e2fc6adf063"
      },
      "execution_count": 63,
      "outputs": [
        {
          "output_type": "execute_result",
          "data": {
            "text/plain": [
              "['Myself', 'Me', 'I', 'and']"
            ]
          },
          "metadata": {},
          "execution_count": 63
        }
      ]
    },
    {
      "cell_type": "code",
      "source": [
        "# Remove last number in sorted by last symbol\n",
        "list(map(lambda x: x[:-1], sorted(s.split(), key = lambda x: x[-1])))"
      ],
      "metadata": {
        "colab": {
          "base_uri": "https://localhost:8080/"
        },
        "id": "_qRd-nzn_6pJ",
        "outputId": "4c9bf24e-7a0d-4bd5-dd33-3069089da97d"
      },
      "execution_count": 61,
      "outputs": [
        {
          "output_type": "execute_result",
          "data": {
            "text/plain": [
              "['Me', 'Myself', 'and', 'I']"
            ]
          },
          "metadata": {},
          "execution_count": 61
        }
      ]
    },
    {
      "cell_type": "code",
      "source": [
        "# Join sorted list of words\n",
        "' '.join(list(map(lambda x: x[:-1], sorted(s.split(), key = lambda x: x[-1]))))"
      ],
      "metadata": {
        "colab": {
          "base_uri": "https://localhost:8080/",
          "height": 35
        },
        "id": "UoRrtvUHApbA",
        "outputId": "b8b5a850-079f-49ae-974e-d7506807b174"
      },
      "execution_count": 65,
      "outputs": [
        {
          "output_type": "execute_result",
          "data": {
            "text/plain": [
              "'Me Myself and I'"
            ],
            "application/vnd.google.colaboratory.intrinsic+json": {
              "type": "string"
            }
          },
          "metadata": {},
          "execution_count": 65
        }
      ]
    },
    {
      "cell_type": "markdown",
      "source": [
        "## More efficient solution and cleaner code \n",
        "\n",
        "Instead of sorting, take advantage that the words have numbers corresponding to the sequence in the sentence, and assign them to the equivalent places in the list "
      ],
      "metadata": {
        "id": "0_hrU9kVBTKx"
      }
    },
    {
      "cell_type": "code",
      "source": [
        "def sortSentence(s):\n",
        "    words = s.split(' ')\n",
        "    n = len(words)\n",
        "    res = [\"\"]*n\n",
        "    for x in words:\n",
        "        res[int(x[-1])-1] = x[:-1]\n",
        "    return ' '.join(res)"
      ],
      "metadata": {
        "id": "nZa15em8BHjZ"
      },
      "execution_count": 66,
      "outputs": []
    },
    {
      "cell_type": "markdown",
      "source": [
        "## Process and Logic Behind the code "
      ],
      "metadata": {
        "id": "o4xR_we6BiGo"
      }
    },
    {
      "cell_type": "code",
      "source": [
        "# Turn a string into a list of words\n",
        "words = s.split(' ')\n",
        "display(words)"
      ],
      "metadata": {
        "colab": {
          "base_uri": "https://localhost:8080/",
          "height": 34
        },
        "id": "cvTp2ijRBlmf",
        "outputId": "b484ac7e-f727-4092-950b-ae1c859e527f"
      },
      "execution_count": 71,
      "outputs": [
        {
          "output_type": "display_data",
          "data": {
            "text/plain": [
              "['Myself2', 'Me1', 'I4', 'and3']"
            ]
          },
          "metadata": {}
        }
      ]
    },
    {
      "cell_type": "code",
      "source": [
        "# Make empty list to hold all modified words\n",
        "res = ['']*len(words)\n",
        "display(res)"
      ],
      "metadata": {
        "colab": {
          "base_uri": "https://localhost:8080/",
          "height": 34
        },
        "id": "S9GtQ4wNJeO7",
        "outputId": "7124f494-9a4d-4b2c-bd2a-593602f7ef0f"
      },
      "execution_count": 74,
      "outputs": [
        {
          "output_type": "display_data",
          "data": {
            "text/plain": [
              "['', '', '', '']"
            ]
          },
          "metadata": {}
        }
      ]
    },
    {
      "cell_type": "code",
      "source": [
        "for x in words:\n",
        "  display(x[:-1]) # this is a word without last symbol\n",
        "  display(x[-1]) # this is the number at the end of the word \n",
        "  display(int(x[-1])-1) # the sentence is already sorted. So instead of using sorting algo, simply use number of the word and assign it to the index. Since index starts with a 0, subtract 1\n",
        "  res[int(x[-1])-1] = x[:-1]\n",
        "\n",
        "display(res)"
      ],
      "metadata": {
        "colab": {
          "base_uri": "https://localhost:8080/",
          "height": 253
        },
        "id": "9cTagdHPJv_r",
        "outputId": "217658b4-a45e-4095-9ba4-dc6c82f6c067"
      },
      "execution_count": 84,
      "outputs": [
        {
          "output_type": "display_data",
          "data": {
            "text/plain": [
              "'Myself'"
            ],
            "application/vnd.google.colaboratory.intrinsic+json": {
              "type": "string"
            }
          },
          "metadata": {}
        },
        {
          "output_type": "display_data",
          "data": {
            "text/plain": [
              "'2'"
            ],
            "application/vnd.google.colaboratory.intrinsic+json": {
              "type": "string"
            }
          },
          "metadata": {}
        },
        {
          "output_type": "display_data",
          "data": {
            "text/plain": [
              "1"
            ]
          },
          "metadata": {}
        },
        {
          "output_type": "display_data",
          "data": {
            "text/plain": [
              "'Me'"
            ],
            "application/vnd.google.colaboratory.intrinsic+json": {
              "type": "string"
            }
          },
          "metadata": {}
        },
        {
          "output_type": "display_data",
          "data": {
            "text/plain": [
              "'1'"
            ],
            "application/vnd.google.colaboratory.intrinsic+json": {
              "type": "string"
            }
          },
          "metadata": {}
        },
        {
          "output_type": "display_data",
          "data": {
            "text/plain": [
              "0"
            ]
          },
          "metadata": {}
        },
        {
          "output_type": "display_data",
          "data": {
            "text/plain": [
              "'I'"
            ],
            "application/vnd.google.colaboratory.intrinsic+json": {
              "type": "string"
            }
          },
          "metadata": {}
        },
        {
          "output_type": "display_data",
          "data": {
            "text/plain": [
              "'4'"
            ],
            "application/vnd.google.colaboratory.intrinsic+json": {
              "type": "string"
            }
          },
          "metadata": {}
        },
        {
          "output_type": "display_data",
          "data": {
            "text/plain": [
              "3"
            ]
          },
          "metadata": {}
        },
        {
          "output_type": "display_data",
          "data": {
            "text/plain": [
              "'and'"
            ],
            "application/vnd.google.colaboratory.intrinsic+json": {
              "type": "string"
            }
          },
          "metadata": {}
        },
        {
          "output_type": "display_data",
          "data": {
            "text/plain": [
              "'3'"
            ],
            "application/vnd.google.colaboratory.intrinsic+json": {
              "type": "string"
            }
          },
          "metadata": {}
        },
        {
          "output_type": "display_data",
          "data": {
            "text/plain": [
              "2"
            ]
          },
          "metadata": {}
        },
        {
          "output_type": "display_data",
          "data": {
            "text/plain": [
              "['Me', 'Myself', 'and', 'I']"
            ]
          },
          "metadata": {}
        }
      ]
    },
    {
      "cell_type": "code",
      "source": [
        "# Join the resulting list into a string\n",
        "' '.join(res)"
      ],
      "metadata": {
        "colab": {
          "base_uri": "https://localhost:8080/",
          "height": 35
        },
        "id": "kvXvnGCkL8uF",
        "outputId": "32cacb5f-63ce-427a-c2f9-46a9b527135f"
      },
      "execution_count": 81,
      "outputs": [
        {
          "output_type": "execute_result",
          "data": {
            "text/plain": [
              "'   '"
            ],
            "application/vnd.google.colaboratory.intrinsic+json": {
              "type": "string"
            }
          },
          "metadata": {},
          "execution_count": 81
        }
      ]
    },
    {
      "cell_type": "markdown",
      "source": [
        "## [Lambda, Map, Filter and Sort in Python](https://regenerativetoday.com/lambda-map-filter-and-sorted-efficient-programming-with-python/)\n"
      ],
      "metadata": {
        "id": "vtQ_o4R5xOVO"
      }
    },
    {
      "cell_type": "code",
      "source": [
        "def add(x,y):\n",
        "  return x + y"
      ],
      "metadata": {
        "id": "KVpQS5-9xxKu"
      },
      "execution_count": 13,
      "outputs": []
    },
    {
      "cell_type": "code",
      "source": [
        "add(4,5)"
      ],
      "metadata": {
        "colab": {
          "base_uri": "https://localhost:8080/"
        },
        "id": "I_HQL4lDyfc1",
        "outputId": "cfd6db0e-e835-4ee9-8fba-d7bbb00158e5"
      },
      "execution_count": 14,
      "outputs": [
        {
          "output_type": "execute_result",
          "data": {
            "text/plain": [
              "9"
            ]
          },
          "metadata": {},
          "execution_count": 14
        }
      ]
    },
    {
      "cell_type": "code",
      "source": [
        "add1 = lambda x, y: x+y\n",
        "add1(4,5)"
      ],
      "metadata": {
        "colab": {
          "base_uri": "https://localhost:8080/"
        },
        "id": "j2ZBpPdxyiT2",
        "outputId": "0371feb4-8f98-4f4b-b728-d72ef43881bd"
      },
      "execution_count": 23,
      "outputs": [
        {
          "output_type": "execute_result",
          "data": {
            "text/plain": [
              "9"
            ]
          },
          "metadata": {},
          "execution_count": 23
        }
      ]
    },
    {
      "cell_type": "code",
      "source": [
        "a = [3,4,5,2,7,8]\n",
        "b = [7,9,2,4,5,1]\n",
        "c = [5,7,3,4,5,9]"
      ],
      "metadata": {
        "id": "q9xLfgX3uzYf"
      },
      "execution_count": 24,
      "outputs": []
    },
    {
      "cell_type": "code",
      "source": [
        "add1(a,b)"
      ],
      "metadata": {
        "colab": {
          "base_uri": "https://localhost:8080/"
        },
        "id": "Ose3u-G10hpc",
        "outputId": "96a8ad39-1a3e-4bf8-bdb1-6cbca0ff3f94"
      },
      "execution_count": 25,
      "outputs": [
        {
          "output_type": "execute_result",
          "data": {
            "text/plain": [
              "[3, 4, 5, 2, 7, 8, 7, 9, 2, 4, 5, 1]"
            ]
          },
          "metadata": {},
          "execution_count": 25
        }
      ]
    },
    {
      "cell_type": "code",
      "source": [
        "res = []\n",
        "for i in range(0, len(a)):\n",
        "  res.append(a[i]+b[i])\n",
        "res"
      ],
      "metadata": {
        "colab": {
          "base_uri": "https://localhost:8080/"
        },
        "id": "-dSdM9je0kOI",
        "outputId": "8cb5ac7d-a1f6-45f2-80bf-f4d299446cae"
      },
      "execution_count": 28,
      "outputs": [
        {
          "output_type": "execute_result",
          "data": {
            "text/plain": [
              "[10, 13, 7, 6, 12, 9]"
            ]
          },
          "metadata": {},
          "execution_count": 28
        }
      ]
    },
    {
      "cell_type": "code",
      "source": [
        "list(map(add1,a,b))"
      ],
      "metadata": {
        "colab": {
          "base_uri": "https://localhost:8080/"
        },
        "id": "GGqgnM4B02js",
        "outputId": "35c79afb-36da-4526-8c34-c91b3230c645"
      },
      "execution_count": 29,
      "outputs": [
        {
          "output_type": "execute_result",
          "data": {
            "text/plain": [
              "[10, 13, 7, 6, 12, 9]"
            ]
          },
          "metadata": {},
          "execution_count": 29
        }
      ]
    },
    {
      "cell_type": "code",
      "source": [
        "list(map(lambda x,y:  x+y, a, b))"
      ],
      "metadata": {
        "colab": {
          "base_uri": "https://localhost:8080/"
        },
        "id": "ZBmo4V5E1Fqe",
        "outputId": "a0ccbc77-272f-4c02-fbc0-5aa7e635da1f"
      },
      "execution_count": 30,
      "outputs": [
        {
          "output_type": "execute_result",
          "data": {
            "text/plain": [
              "[10, 13, 7, 6, 12, 9]"
            ]
          },
          "metadata": {},
          "execution_count": 30
        }
      ]
    },
    {
      "cell_type": "code",
      "source": [
        "list(map(lambda x,y,z: x+y+z, a, b, c))"
      ],
      "metadata": {
        "colab": {
          "base_uri": "https://localhost:8080/"
        },
        "id": "fMWUjQaM1Rp1",
        "outputId": "fcec9f08-d58f-4791-e83c-da3ba06e0a46"
      },
      "execution_count": 31,
      "outputs": [
        {
          "output_type": "execute_result",
          "data": {
            "text/plain": [
              "[15, 20, 10, 10, 17, 18]"
            ]
          },
          "metadata": {},
          "execution_count": 31
        }
      ]
    },
    {
      "cell_type": "code",
      "source": [
        "list(map(lambda x,y,z: 2*x+2.5*y+z, a,b,c))"
      ],
      "metadata": {
        "colab": {
          "base_uri": "https://localhost:8080/"
        },
        "id": "7MPq1VrN1eDp",
        "outputId": "ea216a7c-5c07-4e80-95c2-bc88b54f7547"
      },
      "execution_count": 32,
      "outputs": [
        {
          "output_type": "execute_result",
          "data": {
            "text/plain": [
              "[28.5, 37.5, 18.0, 18.0, 31.5, 27.5]"
            ]
          },
          "metadata": {},
          "execution_count": 32
        }
      ]
    },
    {
      "cell_type": "code",
      "source": [
        "list(filter(lambda x: x>5, c))"
      ],
      "metadata": {
        "colab": {
          "base_uri": "https://localhost:8080/"
        },
        "id": "Ixkh30o81pkH",
        "outputId": "a77082eb-472d-4747-9cc7-ece42a46fed6"
      },
      "execution_count": 33,
      "outputs": [
        {
          "output_type": "execute_result",
          "data": {
            "text/plain": [
              "[7, 9]"
            ]
          },
          "metadata": {},
          "execution_count": 33
        }
      ]
    },
    {
      "cell_type": "code",
      "source": [
        "# Return all even numbers in list b\n",
        "list(filter(lambda x: x%2==0,b))"
      ],
      "metadata": {
        "colab": {
          "base_uri": "https://localhost:8080/"
        },
        "id": "wwDDJadU13wb",
        "outputId": "1ffe5f7f-07c4-480c-9922-b480b7e88a51"
      },
      "execution_count": 34,
      "outputs": [
        {
          "output_type": "execute_result",
          "data": {
            "text/plain": [
              "[2, 4]"
            ]
          },
          "metadata": {},
          "execution_count": 34
        }
      ]
    },
    {
      "cell_type": "code",
      "source": [
        "list(filter(lambda x: x%2==0, a))"
      ],
      "metadata": {
        "colab": {
          "base_uri": "https://localhost:8080/"
        },
        "id": "S5oZRnUB1-dV",
        "outputId": "298d1e43-dd6b-4339-d95e-9b07aa008532"
      },
      "execution_count": 36,
      "outputs": [
        {
          "output_type": "execute_result",
          "data": {
            "text/plain": [
              "[4, 2, 8]"
            ]
          },
          "metadata": {},
          "execution_count": 36
        }
      ]
    },
    {
      "cell_type": "code",
      "source": [
        "names = ['Abram', 'Arib', 'Bob', 'Shawn','Aria','Cicilia','John','Reema','Alice','Craig','Aaron','Simi']"
      ],
      "metadata": {
        "id": "ddGn6HDa2NAq"
      },
      "execution_count": 39,
      "outputs": []
    },
    {
      "cell_type": "code",
      "source": [
        "list(filter(lambda x: x[0]=='A',names))"
      ],
      "metadata": {
        "colab": {
          "base_uri": "https://localhost:8080/"
        },
        "id": "xc37MTLh2bXj",
        "outputId": "a32bfb70-fffd-4de1-a860-0db71079aa76"
      },
      "execution_count": 40,
      "outputs": [
        {
          "output_type": "execute_result",
          "data": {
            "text/plain": [
              "['Abram', 'Arib', 'Aria', 'Alice', 'Aaron']"
            ]
          },
          "metadata": {},
          "execution_count": 40
        }
      ]
    },
    {
      "cell_type": "code",
      "source": [
        "list(filter(lambda x: x[0]!='A',names))"
      ],
      "metadata": {
        "colab": {
          "base_uri": "https://localhost:8080/"
        },
        "id": "lloi5i0V32fB",
        "outputId": "eca834f3-ff53-42e4-81ad-4c2cf2a1badf"
      },
      "execution_count": 42,
      "outputs": [
        {
          "output_type": "execute_result",
          "data": {
            "text/plain": [
              "['Bob', 'Shawn', 'Cicilia', 'John', 'Reema', 'Craig', 'Simi']"
            ]
          },
          "metadata": {},
          "execution_count": 42
        }
      ]
    },
    {
      "cell_type": "code",
      "source": [
        "sorted(names,key=lambda x: x[0])"
      ],
      "metadata": {
        "colab": {
          "base_uri": "https://localhost:8080/"
        },
        "id": "XRzlhFXW39ct",
        "outputId": "dc2c35c2-4f31-4edb-c24f-ee9ee5cb1bba"
      },
      "execution_count": 43,
      "outputs": [
        {
          "output_type": "execute_result",
          "data": {
            "text/plain": [
              "['Abram',\n",
              " 'Arib',\n",
              " 'Aria',\n",
              " 'Alice',\n",
              " 'Aaron',\n",
              " 'Bob',\n",
              " 'Cicilia',\n",
              " 'Craig',\n",
              " 'John',\n",
              " 'Reema',\n",
              " 'Shawn',\n",
              " 'Simi']"
            ]
          },
          "metadata": {},
          "execution_count": 43
        }
      ]
    },
    {
      "cell_type": "code",
      "source": [
        "dict_a = [{'name':'John', 'age':12},\n",
        "          {'name':'Sonia', 'age':10},\n",
        "          {'name':'Steven', 'age':13},\n",
        "          {'name':'Natasha', 'age': 9}]"
      ],
      "metadata": {
        "id": "NEN7oS2U4SVQ"
      },
      "execution_count": 44,
      "outputs": []
    },
    {
      "cell_type": "code",
      "source": [
        "list(map(lambda x: x['name'],dict_a))"
      ],
      "metadata": {
        "colab": {
          "base_uri": "https://localhost:8080/"
        },
        "id": "FWSznSrn4xaM",
        "outputId": "b1993db4-ed68-44cb-bd82-936c408f0ada"
      },
      "execution_count": 45,
      "outputs": [
        {
          "output_type": "execute_result",
          "data": {
            "text/plain": [
              "['John', 'Sonia', 'Steven', 'Natasha']"
            ]
          },
          "metadata": {},
          "execution_count": 45
        }
      ]
    },
    {
      "cell_type": "code",
      "source": [
        "sorted(list(map(lambda x: x['age'], dict_a)))"
      ],
      "metadata": {
        "colab": {
          "base_uri": "https://localhost:8080/"
        },
        "id": "quH8h8vG4_Ol",
        "outputId": "720895a5-6d3d-40b8-d5df-e134e4ee90b8"
      },
      "execution_count": 46,
      "outputs": [
        {
          "output_type": "execute_result",
          "data": {
            "text/plain": [
              "[9, 10, 12, 13]"
            ]
          },
          "metadata": {},
          "execution_count": 46
        }
      ]
    },
    {
      "cell_type": "code",
      "source": [
        "sorted(dict_a, key = lambda x: x['age'])"
      ],
      "metadata": {
        "colab": {
          "base_uri": "https://localhost:8080/"
        },
        "id": "bksH22Cl5MUy",
        "outputId": "0086c399-7dc2-4b51-8dee-44af7a26e1ed"
      },
      "execution_count": 50,
      "outputs": [
        {
          "output_type": "execute_result",
          "data": {
            "text/plain": [
              "[{'age': 9, 'name': 'Natasha'},\n",
              " {'age': 10, 'name': 'Sonia'},\n",
              " {'age': 12, 'name': 'John'},\n",
              " {'age': 13, 'name': 'Steven'}]"
            ]
          },
          "metadata": {},
          "execution_count": 50
        }
      ]
    },
    {
      "cell_type": "code",
      "source": [
        "# Oldest child\n",
        "sorted(dict_a, key = lambda x: x['age'])[-1]"
      ],
      "metadata": {
        "colab": {
          "base_uri": "https://localhost:8080/"
        },
        "id": "4s_7NW6r5e03",
        "outputId": "59533769-e77d-45db-b606-c84411331bff"
      },
      "execution_count": 51,
      "outputs": [
        {
          "output_type": "execute_result",
          "data": {
            "text/plain": [
              "{'age': 13, 'name': 'Steven'}"
            ]
          },
          "metadata": {},
          "execution_count": 51
        }
      ]
    },
    {
      "cell_type": "code",
      "source": [
        "# Youngest child\n",
        "sorted(dict_a, key = lambda x: x['age'])[0]"
      ],
      "metadata": {
        "colab": {
          "base_uri": "https://localhost:8080/"
        },
        "id": "OMmWnInn5-aq",
        "outputId": "39880be6-5996-4fe0-8ea7-51d28938b55a"
      },
      "execution_count": 52,
      "outputs": [
        {
          "output_type": "execute_result",
          "data": {
            "text/plain": [
              "{'age': 9, 'name': 'Natasha'}"
            ]
          },
          "metadata": {},
          "execution_count": 52
        }
      ]
    },
    {
      "cell_type": "code",
      "source": [
        "sorted(dict_a, key = lambda x: x['age'], reverse = True)"
      ],
      "metadata": {
        "colab": {
          "base_uri": "https://localhost:8080/"
        },
        "id": "EhcaMvVo6HyH",
        "outputId": "8d75922e-9414-466b-c827-38496535770f"
      },
      "execution_count": 53,
      "outputs": [
        {
          "output_type": "execute_result",
          "data": {
            "text/plain": [
              "[{'age': 13, 'name': 'Steven'},\n",
              " {'age': 12, 'name': 'John'},\n",
              " {'age': 10, 'name': 'Sonia'},\n",
              " {'age': 9, 'name': 'Natasha'}]"
            ]
          },
          "metadata": {},
          "execution_count": 53
        }
      ]
    },
    {
      "cell_type": "code",
      "source": [
        "files = ['1.cad', '1.bat','1.aa.doc','1.aa']"
      ],
      "metadata": {
        "id": "6CbrEkyE6WQQ"
      },
      "execution_count": 55,
      "outputs": []
    },
    {
      "cell_type": "code",
      "source": [
        "'1.cad'.split('.')"
      ],
      "metadata": {
        "colab": {
          "base_uri": "https://localhost:8080/"
        },
        "id": "ssE-b4Nb60aR",
        "outputId": "33505711-5c21-4091-b69f-3b56d60a9558"
      },
      "execution_count": 56,
      "outputs": [
        {
          "output_type": "execute_result",
          "data": {
            "text/plain": [
              "['1', 'cad']"
            ]
          },
          "metadata": {},
          "execution_count": 56
        }
      ]
    },
    {
      "cell_type": "code",
      "source": [
        "sorted(files, key = lambda x: x.split('.')[-1])"
      ],
      "metadata": {
        "colab": {
          "base_uri": "https://localhost:8080/"
        },
        "id": "f9EQ37CB6lrt",
        "outputId": "13425fbd-63f8-4ec8-cf85-12f1826bdaee"
      },
      "execution_count": 57,
      "outputs": [
        {
          "output_type": "execute_result",
          "data": {
            "text/plain": [
              "['1.aa', '1.bat', '1.cad', '1.aa.doc']"
            ]
          },
          "metadata": {},
          "execution_count": 57
        }
      ]
    },
    {
      "cell_type": "code",
      "source": [
        "sorted(files, key= lambda x: x.split('.')[0])"
      ],
      "metadata": {
        "colab": {
          "base_uri": "https://localhost:8080/"
        },
        "id": "in9bxwXU693g",
        "outputId": "02cc5df1-654b-412c-b706-85d091cd9f6c"
      },
      "execution_count": 87,
      "outputs": [
        {
          "output_type": "execute_result",
          "data": {
            "text/plain": [
              "['1.cad', '1.bat', '1.aa.doc', '1.aa']"
            ]
          },
          "metadata": {},
          "execution_count": 87
        }
      ]
    }
  ]
}